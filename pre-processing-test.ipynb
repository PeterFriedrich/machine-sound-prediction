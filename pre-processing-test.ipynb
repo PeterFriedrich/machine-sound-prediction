{
 "cells": [
  {
   "cell_type": "markdown",
   "metadata": {},
   "source": [
    "## Pre-Processing of Wave files"
   ]
  },
  {
   "cell_type": "markdown",
   "metadata": {},
   "source": [
    "### TODO:\n",
    "current: have a wavfile\n",
    "1. load a wavefile and play it(maybe)\n",
    "2. Do basic preprocessing, find a transform\n",
    "3. Create images? Set them up for Resnet\n",
    "4. Lay out the pipeline for training?"
   ]
  },
  {
   "cell_type": "markdown",
   "metadata": {},
   "source": [
    "### Want to Use basic Scipy Process\n",
    "https://docs.scipy.org/doc/scipy/reference/generated/scipy.io.wavfile.read.html"
   ]
  },
  {
   "cell_type": "code",
   "execution_count": 29,
   "metadata": {},
   "outputs": [],
   "source": [
    "from scipy.io import wavfile"
   ]
  },
  {
   "cell_type": "code",
   "execution_count": 25,
   "metadata": {},
   "outputs": [],
   "source": [
    "test_path = './data/pump/id_00/normal/00000000.wav'"
   ]
  },
  {
   "cell_type": "code",
   "execution_count": 30,
   "metadata": {},
   "outputs": [],
   "source": [
    "#ls data/pump/id_00"
   ]
  },
  {
   "cell_type": "code",
   "execution_count": 32,
   "metadata": {},
   "outputs": [],
   "source": [
    "fs, data = wavfile.read(test_path)"
   ]
  },
  {
   "cell_type": "code",
   "execution_count": 34,
   "metadata": {},
   "outputs": [
    {
     "data": {
      "text/plain": [
       "16000"
      ]
     },
     "execution_count": 34,
     "metadata": {},
     "output_type": "execute_result"
    }
   ],
   "source": [
    "fs # apparently the sampling rate"
   ]
  },
  {
   "cell_type": "code",
   "execution_count": 35,
   "metadata": {},
   "outputs": [
    {
     "data": {
      "text/plain": [
       "array([[ 450,  372,   36, ..., -391,  324,  346],\n",
       "       [ 192,  123,  348, ..., -115,   -9,  381],\n",
       "       [-121,   49,  582, ...,  918,  242, -103],\n",
       "       ...,\n",
       "       [-150,  339,  468, ...,   88,  224, -214],\n",
       "       [ 556,  779,  796, ...,  -65,  -73,  -14],\n",
       "       [ 571,  515,  476, ...,  -53,  -30,  560]], dtype=int16)"
      ]
     },
     "execution_count": 35,
     "metadata": {},
     "output_type": "execute_result"
    }
   ],
   "source": [
    "data"
   ]
  },
  {
   "cell_type": "markdown",
   "metadata": {},
   "source": [
    "### Visualization\n",
    "Straigh from Scipy docs: https://docs.scipy.org/doc/scipy/reference/generated/scipy.io.wavfile.read.html"
   ]
  },
  {
   "cell_type": "markdown",
   "metadata": {},
   "source": []
  }
 ],
 "metadata": {
  "kernelspec": {
   "display_name": "Python 3",
   "language": "python",
   "name": "python3"
  },
  "language_info": {
   "codemirror_mode": {
    "name": "ipython",
    "version": 3
   },
   "file_extension": ".py",
   "mimetype": "text/x-python",
   "name": "python",
   "nbconvert_exporter": "python",
   "pygments_lexer": "ipython3",
   "version": "3.7.6"
  }
 },
 "nbformat": 4,
 "nbformat_minor": 4
}
