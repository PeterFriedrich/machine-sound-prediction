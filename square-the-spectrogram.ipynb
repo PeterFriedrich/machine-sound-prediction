{
 "cells": [
  {
   "cell_type": "markdown",
   "metadata": {},
   "source": [
    "## Problem:\n",
    "Need square inputs to the NN for ease of use. Spectrograms are hard to save square\n",
    "### Possible solutions:\n",
    "1. Trim the spectrogram\n",
    "2. figure out why it wont square"
   ]
  },
  {
   "cell_type": "markdown",
   "metadata": {},
   "source": [
    "why are the time_segs, freqs, and spectro_array necessary?\n",
    "1. time_segs: array of sample times, shape: (1197, )\n",
    "2. freqs: array of sample frequencies, shape: (129, )\n",
    "3. spectro_array: the actual spectrogram, shape: (127, 1197)"
   ]
  },
  {
   "cell_type": "code",
   "execution_count": 121,
   "metadata": {},
   "outputs": [],
   "source": [
    "import numpy as np\n",
    "import matplotlib.pyplot as plt\n",
    "from scipy import signal\n",
    "from scipy.fft import fftshift"
   ]
  },
  {
   "cell_type": "code",
   "execution_count": 202,
   "metadata": {},
   "outputs": [],
   "source": [
    "time_segs = np.random.randn(714,)\n",
    "freqs = np.random.randn(129, )\n",
    "spectro_array = np.random.randn(129, 714)"
   ]
  },
  {
   "cell_type": "markdown",
   "metadata": {},
   "source": [
    "time_segs = np.random.randn(715,)\n",
    "freqs = np.random.randn(130, )\n",
    "spectro_array = np.random.randn(130, 715)"
   ]
  },
  {
   "cell_type": "code",
   "execution_count": 203,
   "metadata": {},
   "outputs": [],
   "source": [
    "time_segs = time_segs[:]\n",
    "freqs = freqs[:]\n",
    "spectro_array = spectro_array[:, :]"
   ]
  },
  {
   "cell_type": "code",
   "execution_count": 204,
   "metadata": {},
   "outputs": [
    {
     "data": {
      "text/plain": [
       "((714,), (129,), (129, 714))"
      ]
     },
     "execution_count": 204,
     "metadata": {},
     "output_type": "execute_result"
    }
   ],
   "source": [
    "time_segs.shape, freqs.shape, spectro_array.shape"
   ]
  },
  {
   "cell_type": "code",
   "execution_count": 205,
   "metadata": {},
   "outputs": [],
   "source": [
    "side = 6\n",
    "plt.figure(figsize=(side, side))\n",
    "fig = plt.pcolormesh(time_segs, freqs, spectro_array)\n",
    "plt.axis('off')\n",
    "fig.axes.get_xaxis().set_visible(False)\n",
    "fig.axes.get_yaxis().set_visible(False)\n",
    "\n",
    "# crop the image in x by 8 pixels\n",
    "plt.savefig('pict.png', bbox_inches='tight', pad_inches = 0)\n",
    "plt.close()"
   ]
  },
  {
   "cell_type": "code",
   "execution_count": 206,
   "metadata": {},
   "outputs": [
    {
     "name": "stdout",
     "output_type": "stream",
     "text": [
      "pict.png: PNG image data, 334 x 326, 8-bit/color RGBA, non-interlaced\r\n"
     ]
    }
   ],
   "source": [
    "!file pict.png"
   ]
  },
  {
   "cell_type": "markdown",
   "metadata": {},
   "source": [
    "Probably need to straight up crop the image, in the x direction"
   ]
  },
  {
   "cell_type": "code",
   "execution_count": 210,
   "metadata": {},
   "outputs": [
    {
     "name": "stdout",
     "output_type": "stream",
     "text": [
      "width: 326, height: 326\n"
     ]
    }
   ],
   "source": [
    "# Improting Image class from PIL module \n",
    "from PIL import Image \n",
    "  \n",
    "# Opens a image in RGB mode \n",
    "image_name = \"pict.png\"\n",
    "im = Image.open(image_name) \n",
    "  \n",
    "# Size of the image in pixels (size of orginal image) \n",
    "# (This is not mandatory)\n",
    "width, height = im.size \n",
    "print(f\"width: {width}, height: {height}\")\n",
    "im.show()"
   ]
  },
  {
   "cell_type": "code",
   "execution_count": 208,
   "metadata": {},
   "outputs": [],
   "source": [
    "# Setting the points for cropped image \n",
    "left = 0\n",
    "top = 0\n",
    "right = width - 8\n",
    "bottom = height\n",
    "  \n",
    "# Cropped image of above dimension \n",
    "# (It will not change orginal image) \n",
    "im1 = im.crop((left, top, right, bottom)) \n",
    "\n",
    "im1.save(image_name)"
   ]
  },
  {
   "cell_type": "code",
   "execution_count": 211,
   "metadata": {},
   "outputs": [
    {
     "name": "stdout",
     "output_type": "stream",
     "text": [
      "pict.png: PNG image data, 326 x 326, 8-bit/color RGBA, non-interlaced\r\n"
     ]
    }
   ],
   "source": [
    "!file pict.png"
   ]
  },
  {
   "cell_type": "code",
   "execution_count": null,
   "metadata": {},
   "outputs": [],
   "source": []
  }
 ],
 "metadata": {
  "kernelspec": {
   "display_name": "Python (fastai-env)",
   "language": "python",
   "name": "fastai-env"
  },
  "language_info": {
   "codemirror_mode": {
    "name": "ipython",
    "version": 3
   },
   "file_extension": ".py",
   "mimetype": "text/x-python",
   "name": "python",
   "nbconvert_exporter": "python",
   "pygments_lexer": "ipython3",
   "version": "3.7.5"
  }
 },
 "nbformat": 4,
 "nbformat_minor": 2
}
